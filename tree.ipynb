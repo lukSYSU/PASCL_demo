{
 "cells": [
  {
   "cell_type": "code",
   "execution_count": 1,
   "id": "05106754",
   "metadata": {},
   "outputs": [],
   "source": [
    "import numpy as np\n",
    "import pandas as pd"
   ]
  },
  {
   "cell_type": "code",
   "execution_count": 2,
   "id": "34a68f80",
   "metadata": {},
   "outputs": [],
   "source": [
    "train = np.load(\"leaves_train.000.npy\")"
   ]
  },
  {
   "cell_type": "code",
   "execution_count": 28,
   "id": "19bf7543",
   "metadata": {},
   "outputs": [
    {
     "data": {
      "text/plain": [
       "(16000, 10, 4)"
      ]
     },
     "execution_count": 28,
     "metadata": {},
     "output_type": "execute_result"
    }
   ],
   "source": [
    "train.shape"
   ]
  },
  {
   "cell_type": "code",
   "execution_count": 37,
   "id": "3064e0cf",
   "metadata": {},
   "outputs": [
    {
     "data": {
      "text/plain": [
       "array([[-17.62829641,   5.86896415,   5.31447822,  19.96109349],\n",
       "       [ -2.21654633,  -2.19889497,   0.72575098,   3.35781643],\n",
       "       [ -3.79498862,   1.67824524,  -3.26166627,   6.07098943],\n",
       "       [  1.12515988,   0.78298477,   3.63309896,   4.00979525],\n",
       "       [  1.30196951,  -5.4334142 ,   3.93835548,   7.4651027 ],\n",
       "       [ -2.25835002,   5.05960657,  -8.0581653 ,   9.98167278],\n",
       "       [  2.70783167,   7.55002603,  -9.75759514,  17.42256893],\n",
       "       [  4.41531333,  -3.13569789,   4.57606948,   7.36668208],\n",
       "       [  0.88943989,   1.67964803,  -1.37244983,   3.80735332],\n",
       "       [ 15.45846712, -11.85146773,   4.26212341,  20.55692557]])"
      ]
     },
     "execution_count": 37,
     "metadata": {},
     "output_type": "execute_result"
    }
   ],
   "source": [
    "train[1000]"
   ]
  },
  {
   "cell_type": "code",
   "execution_count": 26,
   "id": "6b626abc",
   "metadata": {},
   "outputs": [
    {
     "data": {
      "text/plain": [
       "8.325560683850908"
      ]
     },
     "execution_count": 26,
     "metadata": {},
     "output_type": "execute_result"
    }
   ],
   "source": [
    "train[0].std()"
   ]
  },
  {
   "cell_type": "code",
   "execution_count": 10,
   "id": "e7799125",
   "metadata": {},
   "outputs": [],
   "source": [
    "test = np.load(\"leaves_test.000.npy\")"
   ]
  },
  {
   "cell_type": "code",
   "execution_count": 12,
   "id": "f3f51f68",
   "metadata": {},
   "outputs": [
    {
     "data": {
      "text/plain": [
       "(8000, 10, 4)"
      ]
     },
     "execution_count": 12,
     "metadata": {},
     "output_type": "execute_result"
    }
   ],
   "source": [
    "test.shape"
   ]
  }
 ],
 "metadata": {
  "kernelspec": {
   "display_name": "Python 3 (ipykernel)",
   "language": "python",
   "name": "python3"
  },
  "language_info": {
   "codemirror_mode": {
    "name": "ipython",
    "version": 3
   },
   "file_extension": ".py",
   "mimetype": "text/x-python",
   "name": "python",
   "nbconvert_exporter": "python",
   "pygments_lexer": "ipython3",
   "version": "3.7.13"
  },
  "varInspector": {
   "cols": {
    "lenName": 16,
    "lenType": 16,
    "lenVar": 40
   },
   "kernels_config": {
    "python": {
     "delete_cmd_postfix": "",
     "delete_cmd_prefix": "del ",
     "library": "var_list.py",
     "varRefreshCmd": "print(var_dic_list())"
    },
    "r": {
     "delete_cmd_postfix": ") ",
     "delete_cmd_prefix": "rm(",
     "library": "var_list.r",
     "varRefreshCmd": "cat(var_dic_list()) "
    }
   },
   "types_to_exclude": [
    "module",
    "function",
    "builtin_function_or_method",
    "instance",
    "_Feature"
   ],
   "window_display": false
  }
 },
 "nbformat": 4,
 "nbformat_minor": 5
}
